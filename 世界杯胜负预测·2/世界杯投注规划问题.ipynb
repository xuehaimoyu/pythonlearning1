{
 "cells": [
  {
   "cell_type": "code",
   "execution_count": 48,
   "id": "dada7751",
   "metadata": {},
   "outputs": [],
   "source": [
    "# 输入部分\n",
    "plist=[0.52765777,0.27438587,0.19795635]\n",
    "peilv=[1.21,4.60,10.50]\n",
    "M=1000#总规划资金\n",
    "FF=-200#最低愿意承担的风险值或期望获利值"
   ]
  },
  {
   "cell_type": "code",
   "execution_count": 49,
   "id": "fd4f3551",
   "metadata": {},
   "outputs": [
    {
     "name": "stdout",
     "output_type": "stream",
     "text": [
      "     fun: 15.55135144964288\n",
      "     jac: array([-0.63846588, -1.26216888, -2.07853699])\n",
      " message: 'Optimization terminated successfully'\n",
      "    nfev: 12\n",
      "     nit: 3\n",
      "    njev: 3\n",
      "  status: 0\n",
      " success: True\n",
      "       x: array([661.15702479, 173.91304348, 164.92993173])\n",
      "期望值： -15.55135144964288\n",
      "W投注 661.1570247947648\n",
      "P投注 173.91304347819073\n",
      "F投注 164.92993172704456\n",
      "最终结果为胜利的获利： -199.9999999983346\n",
      "最终结果为平局的获利： -200.00000000032276\n",
      "最终结果为负局的获利： 731.7642831339679\n"
     ]
    }
   ],
   "source": [
    "def fun(x):\n",
    "    Exp=-(x[0]*plist[0]*peilv[0]+x[1]*plist[1]*peilv[1]+x[2]*plist[2]*peilv[2]-M)\n",
    "    return Exp\n",
    "fun1=lambda x:M-(x[0]+x[1]+x[2])\n",
    "fun2=lambda x:x[0]*peilv[0]-(M)-FF\n",
    "fun3=lambda x:x[1]*peilv[1]-(M)-FF\n",
    "fun4=lambda x:x[2]*peilv[2]-(M)-FF\n",
    "_constraints=({'type':'ineq','fun':fun1},{'type':'ineq','fun':fun2} ,{'type':'ineq','fun':fun3},{'type':'ineq','fun':fun4})  # 限制，ineq代表不等于,eq代表等于\n",
    "_bounds=((0,M),(0,M),(0,M))  # 优化范围\n",
    "import scipy.optimize as so\n",
    "result=so.minimize(fun,(M/3,M/3,M/3),method='SLSQP',\n",
    "                   bounds=_bounds,constraints=_constraints)\n",
    "print(result)\n",
    "if result.success==False:\n",
    "    print(\"这场达不到期望，投注不了\")\n",
    "else:\n",
    "    print(\"期望值：\",-result.fun)\n",
    "    print(\"W投注\",result.x[0])\n",
    "    print(\"P投注\",result.x[1])\n",
    "    print(\"F投注\",result.x[2])\n",
    "    x=result.x\n",
    "    print(\"最终结果为胜利的获利：\",x[0]*peilv[0]-M)\n",
    "    print(\"最终结果为平局的获利：\",x[1]*peilv[1]-M)\n",
    "    print(\"最终结果为负局的获利：\",x[2]*peilv[2]-M)"
   ]
  },
  {
   "cell_type": "code",
   "execution_count": 34,
   "id": "4822eea3",
   "metadata": {},
   "outputs": [
    {
     "name": "stdout",
     "output_type": "stream",
     "text": [
      "     fun: -1281.1439149959601\n",
      "   maxcv: -0.0\n",
      " message: 'Optimization terminated successfully.'\n",
      "    nfev: 328\n",
      "  status: 1\n",
      " success: True\n",
      "       x: array([452.48868778, 178.57142857, 368.93988365])\n",
      "期望值： 1281.1439149959601\n",
      "W投注 452.4886877828054\n",
      "P投注 178.5714285714286\n",
      "F投注 368.939883645766\n",
      "最终结果为胜利的获利： 0.0\n",
      "最终结果为平局的获利： 2.2737367544323206e-13\n",
      "最终结果为负局的获利： 3242.8086619263086\n"
     ]
    }
   ],
   "source": [
    "def fun(x):\n",
    "    Exp=-(x[0]*plist[0]*peilv[0]+x[1]*plist[1]*peilv[1]+x[2]*plist[2]*peilv[2])\n",
    "    return Exp\n",
    "fun1=lambda x:M-(x[0]+x[1]+x[2])\n",
    "fun2=lambda x:x[0]*peilv[0]-(M-x[0])-FF\n",
    "fun3=lambda x:x[1]*peilv[1]-(M-x[1])-FF\n",
    "fun4=lambda x:x[2]*peilv[2]-(M-x[2])-FF\n",
    "_constraints=({'type':'ineq','fun':fun1},{'type':'ineq','fun':fun2} ,{'type':'ineq','fun':fun3},{'type':'ineq','fun':fun4})  # 限制，ineq代表不等于,eq代表等于\n",
    "_bounds=((0,M),(0,M),(0,M))  # 优化范围\n",
    "import scipy.optimize as so\n",
    "result=so.minimize(fun,(M/3,M/3,M/3),method='COBYLA',\n",
    "                   bounds=_bounds,constraints=_constraints)\n",
    "print(result)\n",
    "if result.success==False:\n",
    "    print(\"这场达不到期望，投注不了\")\n",
    "else:\n",
    "    print(\"期望值：\",-result.fun)\n",
    "    print(\"W投注\",result.x[0])\n",
    "    print(\"P投注\",result.x[1])\n",
    "    print(\"F投注\",result.x[2])\n",
    "    x=result.x\n",
    "    print(\"最终结果为胜利的获利：\",x[0]*peilv[0]-(M-x[0]))\n",
    "    print(\"最终结果为平局的获利：\",x[1]*peilv[1]-(M-x[1]))\n",
    "    print(\"最终结果为负局的获利：\",x[2]*peilv[2]-(M-x[2]))"
   ]
  },
  {
   "cell_type": "code",
   "execution_count": 35,
   "id": "dd1141d0",
   "metadata": {},
   "outputs": [
    {
     "name": "stdout",
     "output_type": "stream",
     "text": [
      "     fun: -281.1439149959581\n",
      "     jac: array([-0.63847351, -1.26217651, -2.07853699])\n",
      " message: 'Optimization terminated successfully'\n",
      "    nfev: 32\n",
      "     nit: 9\n",
      "    njev: 8\n",
      "  status: 0\n",
      " success: True\n",
      "       x: array([452.48868778, 178.57142857, 368.93988365])\n",
      "期望值： 281.1439149959581\n",
      "W投注 452.48868778280547\n",
      "P投注 178.57142857143089\n",
      "F投注 368.9398836457637\n",
      "最终结果为胜利的获利： 1.1368683772161603e-13\n",
      "最终结果为平局的获利： 1.2960299500264227e-11\n",
      "最终结果为负局的获利： 3242.808661926282\n"
     ]
    }
   ],
   "source": [
    "def fun(x):\n",
    "    Exp=-(x[0]*plist[0]*peilv[0]+x[1]*plist[1]*peilv[1]+x[2]*plist[2]*peilv[2]-M)\n",
    "    return Exp\n",
    "fun1=lambda x:M-(x[0]+x[1]+x[2])\n",
    "fun2=lambda x:x[0]*peilv[0]-(M-x[0])-FF\n",
    "fun3=lambda x:x[1]*peilv[1]-(M-x[1])-FF\n",
    "fun4=lambda x:x[2]*peilv[2]-(M-x[2])-FF\n",
    "_constraints=({'type':'ineq','fun':fun1},{'type':'ineq','fun':fun2} ,{'type':'ineq','fun':fun3},{'type':'ineq','fun':fun4})  # 限制，ineq代表不等于,eq代表等于\n",
    "_bounds=((0,M),(0,M),(0,M))  # 优化范围\n",
    "import scipy.optimize as so\n",
    "result=so.minimize(fun,(M/3,M/3,M/3),method='SLSQP',\n",
    "                   bounds=_bounds,constraints=_constraints)\n",
    "print(result)\n",
    "if result.success==False:\n",
    "    print(\"这场达不到期望，投注不了\")\n",
    "else:\n",
    "    print(\"期望值：\",-result.fun)\n",
    "    print(\"W投注\",result.x[0])\n",
    "    print(\"P投注\",result.x[1])\n",
    "    print(\"F投注\",result.x[2])\n",
    "    x=result.x\n",
    "    print(\"最终结果为胜利的获利：\",x[0]*peilv[0]-(M-x[0]))\n",
    "    print(\"最终结果为平局的获利：\",x[1]*peilv[1]-(M-x[1]))\n",
    "    print(\"最终结果为负局的获利：\",x[2]*peilv[2]-(M-x[2]))"
   ]
  },
  {
   "cell_type": "markdown",
   "id": "29949d63",
   "metadata": {},
   "source": [
    "# 简单回归模型\n",
    "考虑参数为排名与身价"
   ]
  },
  {
   "cell_type": "code",
   "execution_count": 3,
   "id": "cb392e12",
   "metadata": {},
   "outputs": [],
   "source": [
    "a1,b1,c1,d1=18,8,2.53,3.39"
   ]
  },
  {
   "cell_type": "code",
   "execution_count": 4,
   "id": "a9cd2385",
   "metadata": {},
   "outputs": [
    {
     "name": "stdout",
     "output_type": "stream",
     "text": [
      "[[ 1.     30.      4.43    0.3365]\n",
      " [ 1.     61.      5.86    0.74  ]\n",
      " [ 1.     24.      5.22    0.4785]\n",
      " ...\n",
      " [ 1.     28.      3.64    1.11  ]\n",
      " [31.     28.      0.0732  1.2   ]\n",
      " [20.     28.      0.3888  1.16  ]]\n"
     ]
    },
    {
     "data": {
      "text/plain": [
       "0.5735294117647058"
      ]
     },
     "execution_count": 4,
     "metadata": {},
     "output_type": "execute_result"
    }
   ],
   "source": [
    "import matplotlib.pyplot as plt\n",
    "import numpy as np\n",
    "import warnings\n",
    "import matplotlib.pyplot as plt\n",
    "from sklearn import metrics\n",
    "warnings.filterwarnings(\"ignore\")\n",
    "train=np.loadtxt(\"X-data.csv\",str,delimiter = \",\",skiprows = 1)\n",
    "y=train[:,-1]\n",
    "ytrain=np.array([int(i) for i in y])\n",
    "Xtrain=train[:,:-1]\n",
    "xtrain=Xtrain.astype(float)\n",
    "X=xtrain\n",
    "print(X)\n",
    "from sklearn.linear_model import LogisticRegression\n",
    "from sklearn.linear_model import LogisticRegression\n",
    "from sklearn.metrics import mean_squared_error\n",
    "import warnings\n",
    "warnings.filterwarnings(\"ignore\")\n",
    "model1=LogisticRegression(multi_class='multinomial',solver=\"lbfgs\",max_iter=1000)\n",
    "model1.fit(X,y)\n",
    "model1.score(X,y)"
   ]
  },
  {
   "cell_type": "code",
   "execution_count": 5,
   "id": "722f42cc",
   "metadata": {},
   "outputs": [
    {
     "name": "stdout",
     "output_type": "stream",
     "text": [
      "[[18.    8.    2.53  3.39]]\n",
      "胜负预测： ['-1']\n",
      "P: [[0.45163944 0.28207891 0.26628165]]\n"
     ]
    }
   ],
   "source": [
    "test=np.array([a1,b1,c1,d1])\n",
    "test=test.reshape(-1,4)\n",
    "print(test)\n",
    "ype_m1=model1.predict_proba(test)\n",
    "ype1=model1.predict(test)\n",
    "print(\"胜负预测：\",ype1)\n",
    "print(\"P:\",ype_m1)"
   ]
  },
  {
   "cell_type": "code",
   "execution_count": 53,
   "id": "d8eb6964",
   "metadata": {},
   "outputs": [
    {
     "name": "stdout",
     "output_type": "stream",
     "text": [
      "0.5772058823529411\n"
     ]
    }
   ],
   "source": [
    "from sklearn import tree #导入需要的模块\n",
    "clf = tree.DecisionTreeClassifier(max_depth=3,min_samples_leaf=3,min_samples_split=3)\n",
    "clf.fit(X,y)\n",
    "yscore=clf.score(X,y)\n",
    "print(yscore)\n"
   ]
  },
  {
   "cell_type": "code",
   "execution_count": 54,
   "id": "8839f3d5",
   "metadata": {},
   "outputs": [
    {
     "name": "stdout",
     "output_type": "stream",
     "text": [
      "胜负预测： ['-1']\n",
      "P: [[0.47826087 0.22529644 0.29644269]]\n"
     ]
    }
   ],
   "source": [
    "test=np.array([a1,b1,c1,d1])\n",
    "test=test.reshape(-1,4)\n",
    "ype_m2=clf.predict_proba(test)\n",
    "ype1=clf.predict(test)\n",
    "print(\"胜负预测：\",ype1)\n",
    "print(\"P:\",ype_m2)"
   ]
  },
  {
   "cell_type": "code",
   "execution_count": 55,
   "id": "a4ab57d1",
   "metadata": {},
   "outputs": [
    {
     "name": "stdout",
     "output_type": "stream",
     "text": [
      "0.8970588235294118\n"
     ]
    }
   ],
   "source": [
    "from sklearn.datasets import load_iris\n",
    "from sklearn import tree\n",
    "from sklearn.ensemble import RandomForestClassifier\n",
    "model = RandomForestClassifier(n_estimators=3)\n",
    "model.fit(X, y)\n",
    "yscore=model.score(X,y)\n",
    "print(yscore)"
   ]
  },
  {
   "cell_type": "code",
   "execution_count": 56,
   "id": "b07aa1c7",
   "metadata": {},
   "outputs": [
    {
     "name": "stdout",
     "output_type": "stream",
     "text": [
      "胜负预测： ['1']\n",
      "P: [[0. 0. 1.]]\n"
     ]
    }
   ],
   "source": [
    "test=np.array([a1,b1,c1,d1])\n",
    "test=test.reshape(-1,4)\n",
    "ype=model.predict_proba(test)\n",
    "ype1=model.predict(test)\n",
    "print(\"胜负预测：\",ype1)\n",
    "print(\"P:\",ype)"
   ]
  },
  {
   "cell_type": "code",
   "execution_count": 57,
   "id": "8fbad781",
   "metadata": {},
   "outputs": [
    {
     "name": "stdout",
     "output_type": "stream",
     "text": [
      "正确率 0.5919117647058824\n"
     ]
    }
   ],
   "source": [
    "from sklearn.svm import SVC\n",
    "svc=SVC(C=1000,kernel='rbf',gamma='scale',probability=True,decision_function_shape='ovo',random_state=30)\n",
    "svc.fit(X,y)\n",
    "score=svc.score(X,y)\n",
    "print(\"正确率\",score)"
   ]
  },
  {
   "cell_type": "code",
   "execution_count": 58,
   "id": "3ab5fd7f",
   "metadata": {},
   "outputs": [
    {
     "name": "stdout",
     "output_type": "stream",
     "text": [
      "胜负预测： ['-1']\n",
      "P: [[0.50017326 0.24251034 0.2573164 ]]\n"
     ]
    }
   ],
   "source": [
    "test=np.array([a1,b1,c1,d1])\n",
    "test=test.reshape(-1,4)\n",
    "ype_3=svc.predict_proba(test)\n",
    "ype1=svc.predict(test)\n",
    "print(\"胜负预测：\",ype1)\n",
    "print(\"P:\",ype_3)"
   ]
  },
  {
   "cell_type": "code",
   "execution_count": 59,
   "id": "b2f1c41a",
   "metadata": {},
   "outputs": [
    {
     "name": "stdout",
     "output_type": "stream",
     "text": [
      "正确率 0.5882352941176471\n",
      "胜负预测： ['-1']\n"
     ]
    }
   ],
   "source": [
    "from sklearn.ensemble import VotingClassifier\n",
    "log_clf=LogisticRegression(multi_class='multinomial',solver=\"lbfgs\",random_state=26)\n",
    "rnd_clf=RandomForestClassifier(n_estimators=30,random_state=42)\n",
    "svc_clf=svc=SVC(gamma='scale',random_state=25)\n",
    "vclf=VotingClassifier(estimators=[('lr',log_clf),('rf',rnd_clf),('svc',svc_clf)],voting='hard')\n",
    "vclf.fit(X,y)\n",
    "score=vclf.score(X,y)\n",
    "print(\"正确率\",score)\n",
    "test=np.array([a1,b1,c1,d1])\n",
    "test=test.reshape(-1,4)\n",
    "#ype=vclf.predict_proba(test)\n",
    "ype1=vclf.predict(test)\n",
    "print(\"胜负预测：\",ype1)\n"
   ]
  },
  {
   "cell_type": "code",
   "execution_count": 60,
   "id": "4d1baf57",
   "metadata": {},
   "outputs": [
    {
     "name": "stdout",
     "output_type": "stream",
     "text": [
      "正确率 0.6102941176470589\n"
     ]
    }
   ],
   "source": [
    "from sklearn.naive_bayes import GaussianNB\n",
    "bayes = GaussianNB()\n",
    "bayes=bayes.fit(X, y)\n",
    "score=bayes.score(X,y)\n",
    "ypre=bayes.predict(X)\n",
    "print(\"正确率\",score)"
   ]
  },
  {
   "cell_type": "code",
   "execution_count": 61,
   "id": "e5105eef",
   "metadata": {},
   "outputs": [
    {
     "name": "stdout",
     "output_type": "stream",
     "text": [
      "胜负预测： ['-1']\n",
      "P: [[0.44407877 0.28448641 0.27143482]]\n"
     ]
    }
   ],
   "source": [
    "test=np.array([a1,b1,c1,d1])\n",
    "test=test.reshape(-1,4)\n",
    "ype_4=bayes.predict_proba(test)\n",
    "ype1=bayes.predict(test)\n",
    "print(\"胜负预测：\",ype1)\n",
    "print(\"P:\",ype_4)"
   ]
  },
  {
   "cell_type": "markdown",
   "id": "f0c0295a",
   "metadata": {},
   "source": [
    "使用神经网络的结果不佳"
   ]
  },
  {
   "cell_type": "code",
   "execution_count": 64,
   "id": "5665e7ae",
   "metadata": {},
   "outputs": [
    {
     "name": "stdout",
     "output_type": "stream",
     "text": [
      "[[0.46853809 0.25859302 0.27286889]]\n"
     ]
    }
   ],
   "source": [
    "av=(ype_m1+ype_m2+ype_3+ype_4)/4\n",
    "print(av)"
   ]
  },
  {
   "cell_type": "code",
   "execution_count": 63,
   "id": "a9d2a27c",
   "metadata": {},
   "outputs": [
    {
     "name": "stdout",
     "output_type": "stream",
     "text": [
      "[[0.47669119 0.2499619  0.27334691]]\n"
     ]
    }
   ],
   "source": [
    "av=(ype_m1+ype_m2+ype_3)/3\n",
    "print(av)"
   ]
  },
  {
   "cell_type": "markdown",
   "id": "a20151f8",
   "metadata": {},
   "source": [
    "# 最新尝试\n",
    "使用凯利公式\n",
    "\n",
    "定义总预期投资N\n",
    "\n",
    "$<\\Delta lnN>=\\sum_{i=1}^n p_iln(1+r_if)$\n",
    "\n"
   ]
  },
  {
   "cell_type": "code",
   "execution_count": 65,
   "id": "a8568add",
   "metadata": {},
   "outputs": [
    {
     "name": "stdout",
     "output_type": "stream",
     "text": [
      "[5, 2.65, 0.42999999999999994]\n",
      "[0.63721334, -0.0561354770000001, -0.3299905313]\n",
      "下注压 胜 期望大于0，可以进行后续规划\n",
      "由凯利公式得出投资比例为：0.12744266799999995\n"
     ]
    }
   ],
   "source": [
    "\n",
    "# 输入部分\n",
    "plist=[0.49286595,0.24832211,0.25881194]\n",
    "peilv=[1.21,4.60,10.50]\n",
    "M=1000#总规划资金\n",
    "# FF=-300#最低愿意承担的风险值或期望获利值\n",
    "rlist=[i-1 for i in peilv]\n",
    "print(rlist)\n",
    "explist=[rlist[i]*plist[i]-(1-plist[i]) for i in range(0,3)]\n",
    "print(explist)\n",
    "g=[]\n",
    "def Kaili(i):\n",
    "    sum=0\n",
    "    sum=(peilv[i]*plist[i]-1)/(peilv[i]-1)\n",
    "    return sum\n",
    "for i in range(0,3):\n",
    "    if explist[i]>0:\n",
    "        if i==0:\n",
    "            temp = '胜'\n",
    "        if i==1:\n",
    "            temp = '平'\n",
    "        if i==2:\n",
    "            temp = '负'\n",
    "        print(\"下注压 {} 期望大于0，可以进行后续规划\".format(temp))\n",
    "        K=Kaili(i)\n",
    "        print(\"由凯利公式得出投资比例为：{}\".format(K))\n",
    "        g.append(K)\n",
    "    else:\n",
    "        g.append(0)\n",
    "if sum(g)==0:\n",
    "    print(\"本场期望小于0，不值得押注\")"
   ]
  },
  {
   "cell_type": "code",
   "execution_count": 66,
   "id": "af333afb",
   "metadata": {},
   "outputs": [
    {
     "name": "stdout",
     "output_type": "stream",
     "text": [
      "W投注 127.44266799999995\n",
      "P投注 -5.009881398621019e-15\n",
      "F投注 -4.9960036108132044e-15\n",
      "投入资金总数： 127.44266799999995\n",
      "最终结果为胜利的获利： 764.6560079999997 预测概率为 0.27286889\n",
      "最终结果为平局的获利： -127.44266799999997 预测概率为 0.25859302\n",
      "最终结果为负局的获利： -127.44266799999997 预测概率为 0.46853809\n",
      "与只投注一种结果相比\n",
      "只压胜投入： 127.44266799999995\n",
      "最终结果为胜利的获利： 637.2133399999998 预测概率为 0.27286889\n",
      "损失： 127.44266799999995 的概率 0.72713111\n",
      "风险回报比 6.0\n",
      "只压平投入： 0\n",
      "最终结果为平局的获利： -1.8286067104966717e-14 预测概率为 0.25859302\n",
      "损失： 0 的概率 0.74140698\n",
      "只压平投入： 0\n",
      "最终结果为负局的获利： -7.144285163462882e-15 预测概率为 0.46853809\n",
      "损失： 0 的概率 0.53146191\n"
     ]
    }
   ],
   "source": [
    "def fun(x):\n",
    "    Exp=-(x[0]*plist[0]*peilv[0]+x[1]*plist[1]*peilv[1]+x[2]*plist[2]*peilv[2])\n",
    "    return Exp\n",
    "fun1=lambda x:M-(x[0]+x[1]+x[2])\n",
    "fun2=lambda x:M*g[0]-x[0]\n",
    "fun3=lambda x:M*g[1]-x[1]\n",
    "fun4=lambda x:M*g[2]-x[2]\n",
    "_constraints=({'type':'ineq','fun':fun1},{'type':'ineq','fun':fun2} ,{'type':'ineq','fun':fun3},{'type':'ineq','fun':fun4})  # 限制，ineq代表不等于,eq代表等于\n",
    "_bounds=((0,M),(0,M),(0,M))  # 优化范围\n",
    "import scipy.optimize as so\n",
    "result=so.minimize(fun,(M/3,M/3,M/3),method='COBYLA',\n",
    "                   bounds=_bounds,constraints=_constraints)\n",
    "if result.success==False:\n",
    "    print(\"这场达不到期望，投注不了\")\n",
    "else:\n",
    "    print(\"W投注\",result.x[0])\n",
    "    print(\"P投注\",result.x[1])\n",
    "    print(\"F投注\",result.x[2])\n",
    "    x=result.x\n",
    "    c=x[0]+x[1]+x[2]\n",
    "    print(\"投入资金总数：\",c)\n",
    "    print(\"最终结果为胜利的获利：\",x[0]*peilv[0]-(c-x[0]),'预测概率为',plist[0])\n",
    "    print(\"最终结果为平局的获利：\",x[1]*peilv[1]-(c-x[1]),'预测概率为',plist[1])\n",
    "    print(\"最终结果为负局的获利：\",x[2]*peilv[2]-(c-x[2]),'预测概率为',plist[2])\n",
    "    print(\"与只投注一种结果相比\")\n",
    "    print(\"只压胜投入：\",M*g[0])\n",
    "    print(\"最终结果为胜利的获利：\",x[0]*peilv[0]-M*g[0],'预测概率为',plist[0])\n",
    "    print(\"损失：\",M*g[0],'的概率',1-plist[0])\n",
    "    if g[0]!=0:\n",
    "        print(\"风险回报比\",M*g[0]*peilv[0]/M/g[0])\n",
    "    print(\"只压平投入：\",M*g[1])\n",
    "    print(\"最终结果为平局的获利：\",x[1]*peilv[1]-M*g[1],'预测概率为',plist[1])\n",
    "    print(\"损失：\",M*g[1],'的概率',1-plist[1])\n",
    "    if g[1]!=0:\n",
    "        print(\"风险回报比\",M*g[1]*peilv[1]/M/g[1])\n",
    "    print(\"只压平投入：\",M*g[2])\n",
    "    print(\"最终结果为负局的获利：\",x[2]*peilv[2]-M*g[2],'预测概率为',plist[2])\n",
    "    print(\"损失：\",M*g[2],'的概率',1-plist[2])\n",
    "    if g[1]!=0:\n",
    "        print(\"风险回报比\",M*g[2]*peilv[2]/M/g[2])"
   ]
  },
  {
   "cell_type": "code",
   "execution_count": null,
   "id": "ae2169e1",
   "metadata": {},
   "outputs": [],
   "source": []
  }
 ],
 "metadata": {
  "kernelspec": {
   "display_name": "Python 3",
   "language": "python",
   "name": "python3"
  },
  "language_info": {
   "codemirror_mode": {
    "name": "ipython",
    "version": 3
   },
   "file_extension": ".py",
   "mimetype": "text/x-python",
   "name": "python",
   "nbconvert_exporter": "python",
   "pygments_lexer": "ipython3",
   "version": "3.8.10"
  },
  "toc": {
   "base_numbering": 1,
   "nav_menu": {},
   "number_sections": true,
   "sideBar": true,
   "skip_h1_title": false,
   "title_cell": "Table of Contents",
   "title_sidebar": "Contents",
   "toc_cell": false,
   "toc_position": {},
   "toc_section_display": true,
   "toc_window_display": false
  }
 },
 "nbformat": 4,
 "nbformat_minor": 5
}
