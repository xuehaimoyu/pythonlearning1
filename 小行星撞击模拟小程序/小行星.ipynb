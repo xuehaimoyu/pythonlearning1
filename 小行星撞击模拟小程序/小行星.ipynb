{
 "cells": [
  {
   "cell_type": "code",
   "execution_count": 2,
   "id": "96a04b34",
   "metadata": {},
   "outputs": [
    {
     "name": "stdout",
     "output_type": "stream",
     "text": [
      "[0.00236545720486412]\n",
      "9.93492026042932e+15\n"
     ]
    }
   ],
   "source": [
    "import sympy as sp\n",
    "R=1000#距离岸边距离\n",
    "h=0.25#深水波波高\n",
    "def Energy(R,h):\n",
    "    y = sp.Symbol('y')\n",
    "    equ1 = 22.7*(y/10)**0.54*1000/R-h\n",
    "    solution = sp.solve(equ1,y)\n",
    "    return solution\n",
    "a=Energy(1000,0.25)\n",
    "print(a)\n",
    "item=a[0]\n",
    "b=item*10**12*420*10**4\n",
    "print(b)"
   ]
  },
  {
   "cell_type": "code",
   "execution_count": 2,
   "id": "49208b90",
   "metadata": {},
   "outputs": [
    {
     "data": {
      "text/latex": [
       "$\\displaystyle 49674601.3021466$"
      ],
      "text/plain": [
       "49674601.3021466"
      ]
     },
     "execution_count": 2,
     "metadata": {},
     "output_type": "execute_result"
    }
   ],
   "source": [
    "item=a[0]\n",
    "b=item*10**12*420*10**4\n",
    "def Msolve(v):#v单位km/s\n",
    "    m=2*b/(v*10**3)**2\n",
    "    return m\n",
    "Msolve(20)"
   ]
  },
  {
   "cell_type": "code",
   "execution_count": 3,
   "id": "34162d1f",
   "metadata": {},
   "outputs": [
    {
     "name": "stdout",
     "output_type": "stream",
     "text": [
      "0.00236545720486412\n"
     ]
    },
    {
     "data": {
      "text/latex": [
       "$\\displaystyle 49674601.3021466$"
      ],
      "text/plain": [
       "49674601.3021466"
      ]
     },
     "execution_count": 3,
     "metadata": {},
     "output_type": "execute_result"
    }
   ],
   "source": [
    "class MV():\n",
    "    def __init__(self,R,h,v):#R distance away from center,h height of a deep-water wave ,v \n",
    "        self.R=R\n",
    "        self.h=h\n",
    "        self.v=v\n",
    "    def Energy(self):\n",
    "        y = sp.Symbol('y')\n",
    "        equ1 = 22.7*(y/10)**0.54*1000/self.R-self.h\n",
    "        solution = sp.solve(equ1,y)\n",
    "        item=solution[0]\n",
    "        print(item)\n",
    "        b=item*10**12*420*10**4\n",
    "        return b\n",
    "    def Msolve(self):#v km*s-1\n",
    "        b=self.Energy()\n",
    "        m=2*b/(self.v*10**3)**2\n",
    "        return m\n",
    "test=MV(1000,0.25,20)\n",
    "test.Msolve()"
   ]
  },
  {
   "cell_type": "code",
   "execution_count": 4,
   "id": "36f4de66",
   "metadata": {},
   "outputs": [
    {
     "name": "stdout",
     "output_type": "stream",
     "text": [
      "0.00236545720486412\n",
      "0.00236545720486412\n",
      "0.00236545720486412\n",
      "0.00236545720486412\n",
      "0.00236545720486412\n",
      "0.00236545720486412\n",
      "0.00236545720486412\n",
      "0.00236545720486412\n",
      "0.00236545720486412\n",
      "0.00236545720486412\n",
      "[198698405.208586, 164213558.023625, 137985003.617074, 117573020.833483, 101376737.351320, 88310402.3149273, 77616564.5346041, 68753773.4285766, 61326668.2742551, 55041109.4760627]\n",
      "0.00853843054928489\n",
      "0.00853843054928489\n",
      "0.00853843054928489\n",
      "0.00853843054928489\n",
      "0.00853843054928489\n",
      "0.00853843054928489\n",
      "0.00853843054928489\n",
      "0.00853843054928489\n",
      "0.00853843054928489\n",
      "0.00853843054928489\n",
      "0.0308205940462783\n",
      "0.0308205940462783\n",
      "0.0308205940462783\n",
      "0.0308205940462783\n",
      "0.0308205940462783\n",
      "0.0308205940462783\n",
      "0.0308205940462783\n",
      "0.0308205940462783\n",
      "0.0308205940462783\n",
      "0.0308205940462783\n",
      "0.0653034204667533\n",
      "0.0653034204667533\n",
      "0.0653034204667533\n",
      "0.0653034204667533\n",
      "0.0653034204667533\n",
      "0.0653034204667533\n",
      "0.0653034204667533\n",
      "0.0653034204667533\n",
      "0.0653034204667533\n",
      "0.0653034204667533\n",
      "0.111251009407700\n",
      "0.111251009407700\n",
      "0.111251009407700\n",
      "0.111251009407700\n",
      "0.111251009407700\n",
      "0.111251009407700\n",
      "0.111251009407700\n",
      "0.111251009407700\n",
      "0.111251009407700\n",
      "0.111251009407700\n"
     ]
    }
   ],
   "source": [
    "y=[]\n",
    "for i in range(10,20,1):\n",
    "    result=MV(1000,0.25,i)\n",
    "    resultm=result.Msolve()\n",
    "    y.append(resultm)\n",
    "print(y)\n",
    "y1=[]\n",
    "for i in range(10,20,1):\n",
    "    result=MV(1000,0.5,i)\n",
    "    resultm=result.Msolve()\n",
    "    y1.append(resultm)\n",
    "y2=[]\n",
    "for i in range(10,20,1):\n",
    "    result=MV(1000,1,i)\n",
    "    resultm=result.Msolve()\n",
    "    y2.append(resultm)\n",
    "y3=[]\n",
    "for i in range(10,20,1):\n",
    "    result=MV(1000,1.5,i)\n",
    "    resultm=result.Msolve()\n",
    "    y3.append(resultm)\n",
    "y4=[]\n",
    "for i in range(10,20,1):\n",
    "    result=MV(1000,2,i)\n",
    "    resultm=result.Msolve()\n",
    "    y4.append(resultm)"
   ]
  },
  {
   "cell_type": "code",
   "execution_count": 6,
   "id": "997475e8",
   "metadata": {},
   "outputs": [
    {
     "ename": "NameError",
     "evalue": "name 'y' is not defined",
     "output_type": "error",
     "traceback": [
      "\u001b[1;31m---------------------------------------------------------------------------\u001b[0m",
      "\u001b[1;31mNameError\u001b[0m                                 Traceback (most recent call last)",
      "\u001b[1;32m<ipython-input-6-9eef6775308a>\u001b[0m in \u001b[0;36m<module>\u001b[1;34m\u001b[0m\n\u001b[0;32m      6\u001b[0m \u001b[0mx\u001b[0m\u001b[1;33m=\u001b[0m\u001b[0mrange\u001b[0m\u001b[1;33m(\u001b[0m\u001b[1;36m10\u001b[0m\u001b[1;33m,\u001b[0m\u001b[1;36m20\u001b[0m\u001b[1;33m,\u001b[0m\u001b[1;36m1\u001b[0m\u001b[1;33m)\u001b[0m\u001b[1;33m\u001b[0m\u001b[1;33m\u001b[0m\u001b[0m\n\u001b[0;32m      7\u001b[0m \u001b[0mx1\u001b[0m\u001b[1;33m=\u001b[0m\u001b[0mrange\u001b[0m\u001b[1;33m(\u001b[0m\u001b[1;36m10\u001b[0m\u001b[1;33m,\u001b[0m\u001b[1;36m20\u001b[0m\u001b[1;33m,\u001b[0m\u001b[1;36m1\u001b[0m\u001b[1;33m)\u001b[0m\u001b[1;33m\u001b[0m\u001b[1;33m\u001b[0m\u001b[0m\n\u001b[1;32m----> 8\u001b[1;33m \u001b[0mplt\u001b[0m\u001b[1;33m.\u001b[0m\u001b[0mplot\u001b[0m\u001b[1;33m(\u001b[0m\u001b[0mx\u001b[0m\u001b[1;33m,\u001b[0m\u001b[0my\u001b[0m\u001b[1;33m,\u001b[0m\u001b[0mcolor\u001b[0m\u001b[1;33m=\u001b[0m\u001b[1;34m'y'\u001b[0m\u001b[1;33m,\u001b[0m\u001b[0mlabel\u001b[0m\u001b[1;33m=\u001b[0m \u001b[1;34m\"H=10\"\u001b[0m\u001b[1;33m)\u001b[0m\u001b[1;33m\u001b[0m\u001b[1;33m\u001b[0m\u001b[0m\n\u001b[0m\u001b[0;32m      9\u001b[0m \u001b[0mplt\u001b[0m\u001b[1;33m.\u001b[0m\u001b[0mplot\u001b[0m\u001b[1;33m(\u001b[0m\u001b[0mx\u001b[0m\u001b[1;33m,\u001b[0m\u001b[0my1\u001b[0m\u001b[1;33m,\u001b[0m\u001b[0mcolor\u001b[0m\u001b[1;33m=\u001b[0m\u001b[1;34m'b'\u001b[0m\u001b[1;33m,\u001b[0m\u001b[0mlabel\u001b[0m\u001b[1;33m=\u001b[0m\u001b[1;34m'H=20'\u001b[0m\u001b[1;33m)\u001b[0m\u001b[1;33m\u001b[0m\u001b[1;33m\u001b[0m\u001b[0m\n\u001b[0;32m     10\u001b[0m \u001b[0mplt\u001b[0m\u001b[1;33m.\u001b[0m\u001b[0mplot\u001b[0m\u001b[1;33m(\u001b[0m\u001b[0mx\u001b[0m\u001b[1;33m,\u001b[0m\u001b[0my2\u001b[0m\u001b[1;33m,\u001b[0m\u001b[0mcolor\u001b[0m\u001b[1;33m=\u001b[0m\u001b[1;34m'g'\u001b[0m\u001b[1;33m,\u001b[0m\u001b[0mlabel\u001b[0m\u001b[1;33m=\u001b[0m\u001b[1;34m'H=40'\u001b[0m\u001b[1;33m)\u001b[0m\u001b[1;33m\u001b[0m\u001b[1;33m\u001b[0m\u001b[0m\n",
      "\u001b[1;31mNameError\u001b[0m: name 'y' is not defined"
     ]
    },
    {
     "data": {
      "text/plain": [
       "<Figure size 600x400 with 0 Axes>"
      ]
     },
     "metadata": {},
     "output_type": "display_data"
    }
   ],
   "source": [
    "import matplotlib.pyplot as plt\n",
    "import numpy as np\n",
    "plt.rcParams['font.family'] = 'sans-serif'\n",
    "plt.rcParams['font.sans-serif'] = ['SimHei']  # 显示汉字\n",
    "fig=plt.figure(dpi=100)\n",
    "x=range(10,20,1)\n",
    "x1=range(10,20,1)\n",
    "plt.plot(x,y,color='y',label= \"H=10\")\n",
    "plt.plot(x,y1,color='b',label='H=20')\n",
    "plt.plot(x,y2,color='g',label='H=40')\n",
    "plt.plot(x,y3,color='pink',label=\"H=60\")\n",
    "plt.plot(x,y4,color='violet',label='H=80')\n",
    "plt.xlabel('v/km*s-1')\n",
    "plt.ylabel('M*10**9(kg)')\n",
    "plt.title('不同H下的M-V图')\n",
    "plt.show()"
   ]
  },
  {
   "cell_type": "code",
   "execution_count": 6,
   "id": "da618f6f",
   "metadata": {},
   "outputs": [
    {
     "name": "stdout",
     "output_type": "stream",
     "text": [
      "0.00156477575443636\n",
      "0.00156477575443636\n",
      "0.00156477575443636\n",
      "0.00156477575443636\n",
      "0.00156477575443636\n",
      "0.00156477575443636\n",
      "0.00156477575443636\n",
      "0.00156477575443636\n",
      "0.00156477575443636\n",
      "0.00156477575443636\n"
     ]
    },
    {
     "data": {
      "image/png": "[encoded data removed]",
      "text/plain": [
       "<Figure size 600x400 with 1 Axes>"
      ]
     },
     "metadata": {
      "needs_background": "light"
     },
     "output_type": "display_data"
    }
   ],
   "source": [
    "y=[]\n",
    "for i in range(10,20,1):\n",
    "    result=MV(1000,0.2,i)\n",
    "    resultm=result.Msolve()\n",
    "    resultm=resultm/10**8\n",
    "    y.append(resultm)\n",
    "import matplotlib.pyplot as plt\n",
    "import numpy as np\n",
    "plt.rcParams['font.family'] = 'sans-serif'\n",
    "plt.rcParams['font.sans-serif'] = ['SimHei']  # 显示汉字\n",
    "fig=plt.figure(dpi=100)\n",
    "x=range(10,20,1)\n",
    "plt.plot(x,y,color='y',label='heigh')\n",
    "plt.legend('upper right')\n",
    "plt.xlabel('v/km*s-1')\n",
    "plt.ylabel('M*10**8(kg)')\n",
    "plt.show()"
   ]
  },
  {
   "cell_type": "code",
   "execution_count": 7,
   "id": "59ec5b04",
   "metadata": {},
   "outputs": [
    {
     "name": "stdout",
     "output_type": "stream",
     "text": [
      "78279468.12661393\n"
     ]
    }
   ],
   "source": [
    "import math\n",
    "class MV1():\n",
    "    def __init__(self,M,v):#M earthquake magnitude, v  impact velocity\n",
    "        self.M=M\n",
    "        self.v=v\n",
    "    def Energy(self):\n",
    "        Y=10**((self.M-3.9)/0.7)\n",
    "        b=Y*10**6*420*10**4\n",
    "        return b\n",
    "    def Msolve(self):#v km/s\n",
    "        b=self.Energy()\n",
    "        m=2*b/(self.v*10**3)**2\n",
    "        return m\n",
    "a=MV1(6.4,20)\n",
    "print(a.Msolve())"
   ]
  },
  {
   "cell_type": "code",
   "execution_count": 8,
   "id": "8e0d3d2a",
   "metadata": {},
   "outputs": [
    {
     "data": {
      "image/png": "[encoded data removed]",
      "text/plain": [
       "<Figure size 600x400 with 1 Axes>"
      ]
     },
     "metadata": {
      "needs_background": "light"
     },
     "output_type": "display_data"
    }
   ],
   "source": [
    "y=[]\n",
    "for i in range(10,20,1):\n",
    "    result=MV1(6.0,i)\n",
    "    resultm=result.Msolve()\n",
    "    resultm=resultm/10**8\n",
    "    y.append(resultm)\n",
    "y1=[]\n",
    "for i in range(10,20,1):\n",
    "    result=MV1(7.5,i)\n",
    "    resultm=result.Msolve()\n",
    "    resultm=resultm/10**8\n",
    "    y1.append(resultm)\n",
    "y2=[]\n",
    "for i in range(10,20,1):\n",
    "    result=MV1(6.6,i)\n",
    "    resultm=result.Msolve()\n",
    "    resultm=resultm/10**8\n",
    "    y2.append(resultm)\n",
    "y3=[]\n",
    "for i in range(10,20,1):\n",
    "    result=MV1(7,i)\n",
    "    resultm=result.Msolve()\n",
    "    resultm=resultm/10**8\n",
    "    y3.append(resultm)\n",
    "import matplotlib.pyplot as plt\n",
    "import numpy as np\n",
    "plt.rcParams['font.family'] = 'sans-serif'\n",
    "plt.rcParams['font.sans-serif'] = ['SimHei']  # 显示汉字\n",
    "fig=plt.figure(dpi=100)\n",
    "x=range(10,20,1)\n",
    "plt.plot(x,y,color='y',label='heigh')#6.0\n",
    "plt.plot(x,y1,color='b',label='heigh')#7.5\n",
    "plt.plot(x,y2,color='g',label='heigh')#6.6\n",
    "plt.plot(x,y3,color='violet',label='heigh')#7\n",
    "plt.xlabel('v/km*s-1')\n",
    "plt.ylabel('M*10**8(kg)')\n",
    "plt.title('M-V graph in different Mz')\n",
    "plt.show()"
   ]
  },
  {
   "cell_type": "code",
   "execution_count": 9,
   "id": "f77e21de",
   "metadata": {},
   "outputs": [
    {
     "name": "stdout",
     "output_type": "stream",
     "text": [
      "0.00853843054928489\n",
      "0.00853843054928489\n"
     ]
    },
    {
     "data": {
      "text/latex": [
       "$\\displaystyle 318768073.839969$"
      ],
      "text/plain": [
       "318768073.839969"
      ]
     },
     "execution_count": 9,
     "metadata": {},
     "output_type": "execute_result"
    }
   ],
   "source": [
    "a=MV(1000,0.5,15)\n",
    "a.Energy()\n",
    "a.Msolve()"
   ]
  },
  {
   "cell_type": "code",
   "execution_count": 10,
   "id": "c0ac99ca",
   "metadata": {},
   "outputs": [
    {
     "data": {
      "text/plain": [
       "6.651964633430475"
      ]
     },
     "execution_count": 10,
     "metadata": {},
     "output_type": "execute_result"
    }
   ],
   "source": [
    "3.9+0.7*math.log10(8538.4305)"
   ]
  },
  {
   "cell_type": "code",
   "execution_count": 11,
   "id": "cfdd5d3e",
   "metadata": {},
   "outputs": [
    {
     "name": "stdout",
     "output_type": "stream",
     "text": [
      "(9.93492026042932e+15, 0.00236545720486412)\n",
      "m= 49674601.3021466 v= 20 H=40*h 10.0 M= 6.261740566731927\n"
     ]
    }
   ],
   "source": [
    "import math\n",
    "class MV():\n",
    "    def __init__(self,R,h,v):#R distance away from center,h height of a deep-water wave ,v \n",
    "        self.R=R\n",
    "        self.h=h\n",
    "        self.v=v\n",
    "    def Energy(self):\n",
    "        y = sp.Symbol('y')\n",
    "        equ1 = 22.7*(y/10)**0.54*1000/self.R-self.h\n",
    "        solution = sp.solve(equ1,y)\n",
    "        item=solution[0]\n",
    "        b=item*10**12*420*10**4\n",
    "        return b,item\n",
    "    def Msolve(self):#v km*s-1\n",
    "        b,item=self.Energy()\n",
    "        m=2*b/(self.v*10**3)**2\n",
    "        return m\n",
    "    def earthquake(self):\n",
    "        b,item=self.Energy()\n",
    "        item=item*10**6\n",
    "        Y=3.9+0.7*math.log10(item)\n",
    "        print(\"m=\",self.Msolve(),\"v=\",self.v,\"H=40*h\",40*self.h,\"M=\",Y)\n",
    "test=MV(1000,0.25,20)\n",
    "print(test.Energy())\n",
    "test.earthquake()"
   ]
  },
  {
   "cell_type": "code",
   "execution_count": 12,
   "id": "70550fc9",
   "metadata": {},
   "outputs": [
    {
     "name": "stdout",
     "output_type": "stream",
     "text": [
      "[-3.65666591e+01 -4.81753185e+01 -6.34693288e+01 -8.36186625e+01\n",
      " -1.10164718e+02 -1.45138236e+02 -1.91214645e+02 -2.51918732e+02\n",
      " -3.31894284e+02 -4.37259329e+02 -5.76074161e+02 -7.58957937e+02\n",
      " -9.99901035e+02 -1.31733530e+03 -1.73554405e+03 -2.28651972e+03\n",
      " -3.01241127e+03 -3.96874846e+03 -5.22868990e+03 -6.88861950e+03\n",
      " -9.07551979e+03 -1.19566859e+04 -1.57525233e+04 -2.07534088e+04\n",
      " -2.73419039e+04 -3.60220201e+04 -4.74577753e+04 -6.25239903e+04\n",
      " -8.23732115e+04 -1.08523879e+05 -1.42976487e+05 -1.88366614e+05\n",
      " -2.48166550e+05 -3.26950913e+05 -4.30746607e+05 -5.67493873e+05\n",
      " -7.47653702e+05 -9.85008094e+05 -1.29771436e+06 -1.70969413e+06\n",
      " -2.25246335e+06 -2.96754316e+06 -3.90963628e+06 -5.15081162e+06\n",
      " -6.78601754e+06 -8.94034523e+06 -1.17785980e+07 -1.55178987e+07\n",
      " -2.04442990e+07 -2.69346623e+07]\n"
     ]
    },
    {
     "name": "stderr",
     "output_type": "stream",
     "text": [
      "C:\\Users\\cm\\anaconda3\\lib\\site-packages\\matplotlib\\backends\\backend_agg.py:238: RuntimeWarning: Glyph 8722 missing from current font.\n",
      "  font.set_text(s, 0.0, flags=flags)\n",
      "C:\\Users\\cm\\anaconda3\\lib\\site-packages\\matplotlib\\backends\\backend_agg.py:201: RuntimeWarning: Glyph 8722 missing from current font.\n",
      "  font.set_text(s, 0, flags=flags)\n"
     ]
    },
    {
     "data": {
      "image/png": "[encoded data removed]",
      "text/plain": [
       "<Figure size 600x400 with 1 Axes>"
      ]
     },
     "metadata": {
      "needs_background": "light"
     },
     "output_type": "display_data"
    }
   ],
   "source": [
    "import math as m\n",
    "A=np.pi*11**2#r=10\n",
    "c=5.25*10**(-8)#取近似值\n",
    "v=20*10**3\n",
    "p=1.2256\n",
    "H=7254\n",
    "r=100*10**3\n",
    "import matplotlib.pyplot as plt\n",
    "plt.figure(dpi=100)\n",
    "t=np.arange(0,5,0.1)\n",
    "m=-1/2*A*c*H*p*v**2*np.exp(-(r-v*t)/H)\n",
    "print(m)\n",
    "plt.plot(t,m)\n",
    "plt.show()                                                                                                                                                                                                                                                                                                                                                                                                                                                                                                                                                                                                                                                                                                                                                                                                                                                                                                                                                                                                                                                                                                                                                                                                                                                                                                                                                                                                                                                                                                                                                                                                                                                                                                                                                                                                                                                                                                                                                                                                                                                                                                                                                                                                                                                                                                                                                                                                                                                                                                                                                                                                                                                                                                                                                                                                                                                                                                                                                                                                                                                                                                                                                                                                                                                                                                                                                                                                                                                                                                                                                                                                                                                                                                                                                                                                                                                                                                                                                                                                                                                                                                                                                                                                                                                                                                                                                                                                                                                                                                                                                                                                                                                                                                                                                                                                                                                                                                                                                                                                                                                                                                                                                                                                                                                                                                                                                                                                                                                                                                                                                                                                                                                                                                                                                                                                                                                                                                                                                                                                                                                                                                                                                                                                                                                                                                                                                                                                                                                                                                                                                                                                                                                                                                                                                                                                                                                                                                                                                                                                                                                                                                                                                                                                                                                                                                                                                                                                                                                                                                                                                                                                                                                                                                                                                                                                                                                                                                                                                                                                                                                                                                                                                                                                                                                                                                                                                                                                                                                                                                                                                                                                                                                                                                                                                                                                                                                                                                                                                                                                                                                                                                                                                                                                                                                                                                                                                                                                                                                                                                                                                                                                                                                                                                                                                                                                                                                                                                                                                                                                                                                                                                                                                                                                                                                                                                                                                                                                                                                                                                                                                                                                                                                                                                                                                                                                                                                                                                                                                                                                                                                                                                                                                                                                                                                                                                                                                                                                                                                                                                                                                                                                                                                                                                                                                                                                                                                                                                                                                                                                                                                                                                                                                                                                                                                                                                                                                                                                                                                                                                                                                                                                                                                                                                                                                                                                                                                                                                                                                                                                                                                                                                                                                                                                                                                                                                                                                                                                                                                                                                                                                                                                                                                                                                                                                                                                                                                                                                                                                                                                                                                                                                                                                                                                                                                                                                                                                                                                                                                                                                                                                                                                                                                                                                                                                                                                                                                                                                                                                                                                                                                                                                                                                                                                                                                                                                                                                                                                                                                                                                                                                                                                                                                                                                                                                                                                                                                                                                                                                                                                                                                                                                                                                                                                                                                                                                                                                                                                                                                                                                                                                                                                                                                                                                                                                                                                                                                                                                                                                                                                                                                                                                                                                                                                                                                                                                                                                                                                                                                                                                                                                                                                                                                                                                                                                                                                                                                                                                                                                                                                                                                                                                                                                                                                                                                                                                                                                                                                                                                                                                                                                                                                                                                                                                                                                                                                                                                                                                                                                                                                                                                                                                                                                                                                                                                                                                                                                                                                                                                                                                                                                                                                                                                                                                                                                                                                                                                                                                                                                                                                                                                                                                                                                                                                                                                                                                                                                                                                                                                                                                                                                                                                                                                                                                                                                                                                                                                                                                                                                                                                                                                                                                                                                                                                                                                                                                                                                                                                                                                                                                                                                                                                                                                                                                                                                                                                                                                                                                                                                                                                                                                                                                                                                                                                                                                                                                                                                                                                                                                                                                                                                                                                                                                                                                                                                                                                                                                                                                                                                                                                                                                                                                                                                                                                                                                                                                                                                                                                                                                                                                                                                                                                                                                                                                                                                                                                                                                                                                                                                                                                                                                                                                                                                                                                                                                                                                                                                                                                                                                                                                                                                                                                                                                                                                                                                                                                                                                                                                                                                                                                                                                                                                                                                                                                                                                                                                                                                                                                                                                                                                                                                                                                                                                                                                                                                                                                                                                                                                                                                                                                                                                                                                                                                                                                                                                                                                                                                                                                                                                                                                                                                                                                                                                                                                                                                                                                                                                                                                                                                                                                                                                                                                                                                                                                                                                                                                                                                                                                                                                                                                                                                                                                                                                                                                                                                                                                                                                                                                                                                                                                                                                                                                                                                                                                                                                                                                                                                                                                                                                                                                                                                                                                                                                                                                                                                                                                                                                                                                                                                                                                                                                                                                                                                                                                                                                                                                                                                                                                                                                                                                                                                                                                                                                                                                                                                                                                                                                                                                                                                                                                                                                                                                                                                                                                                                                                                                                                                                                                                                                                                                                                                                                                                                                                                                                                                                                                                                                                                                                                                                                                                                                                                                                                                                                                                                                                                                                                                                                                                                                                                                                                                                                                                                                                                                                                                                                                                                                       "
   ]
  },
  {
   "cell_type": "code",
   "execution_count": 13,
   "id": "cf5094ef",
   "metadata": {},
   "outputs": [
    {
     "data": {
      "text/plain": [
       "22339670.637817334"
      ]
     },
     "execution_count": 13,
     "metadata": {},
     "output_type": "execute_result"
    }
   ],
   "source": [
    "t=0\n",
    "m=1/2*A*c*H**2*p*v*np.exp(-(r-v*t)/H)\n",
    "a=m\n",
    "t=5.2\n",
    "m=1/2*A*c*H**2*p*v*np.exp(-(r-v*t)/H)\n",
    "b=m\n",
    "b-a"
   ]
  },
  {
   "cell_type": "code",
   "execution_count": 14,
   "id": "de892a5b",
   "metadata": {},
   "outputs": [
    {
     "data": {
      "text/plain": [
       "22339670.637817334"
      ]
     },
     "execution_count": 14,
     "metadata": {},
     "output_type": "execute_result"
    }
   ],
   "source": [
    "class Msun():\n",
    "    def __init__(self,R,v,c=5.25*10**(-8),H=7254,r=100*10**3,p=1.2256):#R在下落过程中不变，v不变\n",
    "        self.R=R\n",
    "        self.v=v*10**3\n",
    "        self.c=c\n",
    "        self.H=H\n",
    "        self.r=r\n",
    "        self.p=p\n",
    "    def mt(self,t):\n",
    "        A=np.pi*self.R**2\n",
    "        v=self.v\n",
    "        t=self.t\n",
    "        m=-1/2*A*self.c*self.H*self.p*v**2*np.exp(-(self.r-v*t)/self.H)\n",
    "        return m\n",
    "    def Ms(self):\n",
    "        A=np.pi*self.R**2\n",
    "        v=self.v\n",
    "        t1=104*10**3/v\n",
    "        m1=1/2*A*self.c*self.H**2*self.p*v*np.exp(-(self.r-v*t1)/self.H)\n",
    "        t2=0\n",
    "        m2=1/2*A*self.c*self.H**2*self.p*v*np.exp(-(self.r-v*t2)/self.H)\n",
    "        M=m1-m2\n",
    "        return M\n",
    "test=Msun(11,20)\n",
    "test.Ms()\n",
    "        \n",
    "        \n",
    "        "
   ]
  },
  {
   "cell_type": "code",
   "execution_count": 15,
   "id": "d66eb65b",
   "metadata": {},
   "outputs": [
    {
     "name": "stdout",
     "output_type": "stream",
     "text": [
      "11.4694100102067\n",
      "49674601.3021466\n",
      "m= 49674601.3021466 v= 20 H=40*h 10.0 M= 6.261740566731927\n"
     ]
    }
   ],
   "source": [
    "import math\n",
    "class MV():\n",
    "    def __init__(self,R,h,v):#R distance away from center,h height of a deep-water wave ,v \n",
    "        self.R=R\n",
    "        self.h=h\n",
    "        self.v=v\n",
    "    def Energy(self):\n",
    "        y = sp.Symbol('y')\n",
    "        equ1 = 22.7*(y/10)**0.54*1000/self.R-self.h\n",
    "        solution = sp.solve(equ1,y)\n",
    "        item=solution[0]\n",
    "        b=item*10**12*420*10**4\n",
    "        return b,item\n",
    "    def Msolve(self):#v km*s-1\n",
    "        b,item=self.Energy()\n",
    "        m=2*b/(self.v*10**3)**2\n",
    "        return m\n",
    "    def earthquake(self):\n",
    "        b,item=self.Energy()\n",
    "        item=item*10**6\n",
    "        Y=3.9+0.7*math.log10(item)\n",
    "        print(\"m=\",self.Msolve(),\"v=\",self.v,\"H=40*h\",40*self.h,\"M=\",Y)\n",
    "test=MV(1000,0.25,20)\n",
    "M=test.Msolve()\n",
    "R1=(M/7860/np.pi*3/4)**(1/3)\n",
    "print(R1)\n",
    "print(test.Msolve())\n",
    "test.earthquake()"
   ]
  },
  {
   "cell_type": "code",
   "execution_count": 4,
   "id": "6fbffe6d",
   "metadata": {},
   "outputs": [
    {
     "name": "stdout",
     "output_type": "stream",
     "text": [
      "0.00236545720486412\n"
     ]
    },
    {
     "ename": "NameError",
     "evalue": "name 'np' is not defined",
     "output_type": "error",
     "traceback": [
      "\u001b[1;31m---------------------------------------------------------------------------\u001b[0m",
      "\u001b[1;31mNameError\u001b[0m                                 Traceback (most recent call last)",
      "\u001b[1;32m<ipython-input-4-e18bad739a0e>\u001b[0m in \u001b[0;36m<module>\u001b[1;34m\u001b[0m\n\u001b[0;32m     53\u001b[0m \u001b[1;33m\u001b[0m\u001b[0m\n\u001b[0;32m     54\u001b[0m \u001b[0mx1\u001b[0m\u001b[1;33m=\u001b[0m\u001b[0mMtotal\u001b[0m\u001b[1;33m(\u001b[0m\u001b[1;36m1000\u001b[0m\u001b[1;33m,\u001b[0m\u001b[1;36m0.25\u001b[0m\u001b[1;33m,\u001b[0m\u001b[1;36m20\u001b[0m\u001b[1;33m,\u001b[0m\u001b[1;36m7860\u001b[0m\u001b[1;33m)\u001b[0m\u001b[1;31m#铁陨石\u001b[0m\u001b[1;33m\u001b[0m\u001b[1;33m\u001b[0m\u001b[0m\n\u001b[1;32m---> 55\u001b[1;33m \u001b[0mprint\u001b[0m\u001b[1;33m(\u001b[0m\u001b[1;34m\"mspace=\"\u001b[0m\u001b[1;33m,\u001b[0m\u001b[0mx1\u001b[0m\u001b[1;33m.\u001b[0m\u001b[0mmtotal\u001b[0m\u001b[1;33m(\u001b[0m\u001b[1;33m)\u001b[0m\u001b[1;33m,\u001b[0m\u001b[1;34m\"rate=\"\u001b[0m\u001b[1;33m,\u001b[0m\u001b[0mx1\u001b[0m\u001b[1;33m.\u001b[0m\u001b[0msun\u001b[0m\u001b[1;33m(\u001b[0m\u001b[1;33m)\u001b[0m\u001b[1;33m,\u001b[0m\u001b[1;34m'R='\u001b[0m\u001b[1;33m,\u001b[0m\u001b[0mx1\u001b[0m\u001b[1;33m.\u001b[0m\u001b[0mmR\u001b[0m\u001b[1;33m(\u001b[0m\u001b[1;33m)\u001b[0m\u001b[1;33m)\u001b[0m\u001b[1;33m\u001b[0m\u001b[1;33m\u001b[0m\u001b[0m\n\u001b[0m\u001b[0;32m     56\u001b[0m \u001b[0mprint\u001b[0m\u001b[1;33m(\u001b[0m\u001b[0mx1\u001b[0m\u001b[1;33m.\u001b[0m\u001b[0mme\u001b[0m\u001b[1;33m(\u001b[0m\u001b[1;33m)\u001b[0m\u001b[1;33m)\u001b[0m\u001b[1;33m\u001b[0m\u001b[1;33m\u001b[0m\u001b[0m\n\u001b[0;32m     57\u001b[0m \u001b[0mx2\u001b[0m\u001b[1;33m=\u001b[0m\u001b[0mMtotal\u001b[0m\u001b[1;33m(\u001b[0m\u001b[1;36m1000\u001b[0m\u001b[1;33m,\u001b[0m\u001b[1;36m0.5\u001b[0m\u001b[1;33m,\u001b[0m\u001b[1;36m20\u001b[0m\u001b[1;33m,\u001b[0m\u001b[1;36m3500\u001b[0m\u001b[1;33m)\u001b[0m\u001b[1;31m#石头陨石\u001b[0m\u001b[1;33m\u001b[0m\u001b[1;33m\u001b[0m\u001b[0m\n",
      "\u001b[1;32m<ipython-input-4-e18bad739a0e>\u001b[0m in \u001b[0;36mmtotal\u001b[1;34m(self)\u001b[0m\n\u001b[0;32m     31\u001b[0m         \u001b[0mtest\u001b[0m\u001b[1;33m=\u001b[0m\u001b[0mMV\u001b[0m\u001b[1;33m(\u001b[0m\u001b[0mself\u001b[0m\u001b[1;33m.\u001b[0m\u001b[0mR\u001b[0m\u001b[1;33m,\u001b[0m\u001b[0mself\u001b[0m\u001b[1;33m.\u001b[0m\u001b[0mh\u001b[0m\u001b[1;33m,\u001b[0m\u001b[0mself\u001b[0m\u001b[1;33m.\u001b[0m\u001b[0mv\u001b[0m\u001b[1;33m)\u001b[0m\u001b[1;33m\u001b[0m\u001b[1;33m\u001b[0m\u001b[0m\n\u001b[0;32m     32\u001b[0m         \u001b[0mM\u001b[0m\u001b[1;33m=\u001b[0m\u001b[0mtest\u001b[0m\u001b[1;33m.\u001b[0m\u001b[0mMsolve\u001b[0m\u001b[1;33m(\u001b[0m\u001b[1;33m)\u001b[0m\u001b[1;33m\u001b[0m\u001b[1;33m\u001b[0m\u001b[0m\n\u001b[1;32m---> 33\u001b[1;33m         \u001b[0mR1\u001b[0m\u001b[1;33m=\u001b[0m\u001b[1;33m(\u001b[0m\u001b[0mM\u001b[0m\u001b[1;33m/\u001b[0m\u001b[0mself\u001b[0m\u001b[1;33m.\u001b[0m\u001b[0mp\u001b[0m\u001b[1;33m/\u001b[0m\u001b[0mnp\u001b[0m\u001b[1;33m.\u001b[0m\u001b[0mpi\u001b[0m\u001b[1;33m*\u001b[0m\u001b[1;36m3\u001b[0m\u001b[1;33m/\u001b[0m\u001b[1;36m4\u001b[0m\u001b[1;33m)\u001b[0m\u001b[1;33m**\u001b[0m\u001b[1;33m(\u001b[0m\u001b[1;36m1\u001b[0m\u001b[1;33m/\u001b[0m\u001b[1;36m3\u001b[0m\u001b[1;33m)\u001b[0m\u001b[1;33m\u001b[0m\u001b[1;33m\u001b[0m\u001b[0m\n\u001b[0m\u001b[0;32m     34\u001b[0m         \u001b[0mtest\u001b[0m\u001b[1;33m=\u001b[0m\u001b[0mMsun\u001b[0m\u001b[1;33m(\u001b[0m\u001b[0mR1\u001b[0m\u001b[1;33m,\u001b[0m\u001b[0mself\u001b[0m\u001b[1;33m.\u001b[0m\u001b[0mv\u001b[0m\u001b[1;33m)\u001b[0m\u001b[1;33m\u001b[0m\u001b[1;33m\u001b[0m\u001b[0m\n\u001b[0;32m     35\u001b[0m         \u001b[0ma\u001b[0m\u001b[1;33m=\u001b[0m\u001b[0mtest\u001b[0m\u001b[1;33m.\u001b[0m\u001b[0mMs\u001b[0m\u001b[1;33m(\u001b[0m\u001b[1;33m)\u001b[0m\u001b[1;33m\u001b[0m\u001b[1;33m\u001b[0m\u001b[0m\n",
      "\u001b[1;31mNameError\u001b[0m: name 'np' is not defined"
     ]
    }
   ],
   "source": [
    "class Msun():\n",
    "    def __init__(self,R,v,c=6*10**(-8),H=7254,r=100*10**3,p=1.2256):#R在下落过程中不变，v不变\n",
    "        self.R=R\n",
    "        self.v=v*10**3\n",
    "        self.c=c\n",
    "        self.H=H\n",
    "        self.r=r\n",
    "        self.p=p\n",
    "    def mt(self,t):\n",
    "        A=np.pi*self.R**2\n",
    "        v=self.v\n",
    "        t=self.t\n",
    "        m=-1/2*A*self.c*self.H*self.p*v**2*np.exp(-(self.r-v*t)/self.H)\n",
    "        return m\n",
    "    def Ms(self):\n",
    "        A=np.pi*self.R**2\n",
    "        v=self.v\n",
    "        t1=104*10**3/v\n",
    "        m1=1/2*A*self.c*self.H**2*self.p*v*np.exp(-(self.r-v*t1)/self.H)\n",
    "        t2=0\n",
    "        m2=1/2*A*self.c*self.H**2*self.p*v*np.exp(-(self.r-v*t2)/self.H)\n",
    "        M=m1-m2\n",
    "        return M\n",
    "class Mtotal():\n",
    "    def __init__(self,R,h,v,p):\n",
    "        self.R=R\n",
    "        self.h=h\n",
    "        self.v=v\n",
    "        self.p=p\n",
    "    def mtotal(self):\n",
    "        test=MV(self.R,self.h,self.v)\n",
    "        M=test.Msolve()\n",
    "        R1=(M/self.p/np.pi*3/4)**(1/3)\n",
    "        test=Msun(R1,self.v)\n",
    "        a=test.Ms()\n",
    "        Mt=M+a\n",
    "        return Mt\n",
    "    def sun(self):\n",
    "        test=Msun(R1,self.v)\n",
    "        a=test.Ms()\n",
    "        rate=a/self.mtotal()\n",
    "        return rate\n",
    "    def me(self):\n",
    "        test=MV(self.R,self.h,self.v)\n",
    "        test.earthquake()\n",
    "    def mR(self):\n",
    "        test=MV(self.R,self.h,self.v)\n",
    "        M=test.Msolve()\n",
    "        R1=(M/self.p/np.pi*3/4)**(1/3)\n",
    "        return R1\n",
    "        \n",
    "        \n",
    "   \n",
    "x1=Mtotal(1000,0.25,20,7860)#铁陨石\n",
    "print(\"mspace=\",x1.mtotal(),\"rate=\",x1.sun(),'R=',x1.mR())\n",
    "print(x1.me())\n",
    "x2=Mtotal(1000,0.5,20,3500)#石头陨石\n",
    "print(\"mspace=\",x2.mtotal(),\"rate=\",x2.sun(),'R=',x2.mR())\n",
    "print(x2.me())\n",
    "x3=Mtotal(1000,0.5,20,5500)#陨铁陨石\n",
    "print(\"mspace=\",x3.mtotal(),\"rate=\",x3.sun(),'R=',x3.mR())\n",
    "print(x2.me())"
   ]
  },
  {
   "cell_type": "code",
   "execution_count": 29,
   "id": "ade978f6",
   "metadata": {},
   "outputs": [
    {
     "data": {
      "image/png": "[encoded data removed]",
      "text/plain": [
       "<Figure size 600x400 with 1 Axes>"
      ]
     },
     "metadata": {
      "needs_background": "light"
     },
     "output_type": "display_data"
    }
   ],
   "source": [
    "import matplotlib.pyplot as plt\n",
    "import numpy as np\n",
    "fig=plt.figure(dpi=100)\n",
    "l1=[]\n",
    "for i in range(10,21):\n",
    "    x1=Mtotal(1000,0.25,i,7860)#铁陨石\n",
    "    x=x1.sun()*100\n",
    "    l1.append(x)\n",
    "x=range(10,21)\n",
    "plt.plot(x,l1,'b',label='iron')\n",
    "l2=[]\n",
    "for i in range(10,21):\n",
    "    x2=Mtotal(1000,0.25,i,5500)#铁陨石\n",
    "    x=x2.sun()*100\n",
    "    l2.append(x)\n",
    "x=range(10,21)\n",
    "plt.plot(x,l2,'g',label='hard stone')\n",
    "l3=[]\n",
    "for i in range(10,21):\n",
    "    x3=Mtotal(1000,0.25,i,3500)#铁陨石\n",
    "    x=x3.sun()*100\n",
    "    l3.append(x)\n",
    "x=range(10,21)\n",
    "plt.plot(x,l3,'y',label='soft stone')\n",
    "plt.title(\"DamageRate-V graph\")\n",
    "plt.xlabel('v')\n",
    "plt.ylabel('damage rate(%)')\n",
    "plt.show()\n",
    "\n"
   ]
  },
  {
   "cell_type": "code",
   "execution_count": 32,
   "id": "c3a55701",
   "metadata": {},
   "outputs": [
    {
     "data": {
      "text/plain": [
       "27756550.926238"
      ]
     },
     "execution_count": 32,
     "metadata": {},
     "output_type": "execute_result"
    }
   ],
   "source": [
    "77431152.2283846-49674601.3021466\n"
   ]
  },
  {
   "cell_type": "code",
   "execution_count": 35,
   "id": "8e3b3580",
   "metadata": {},
   "outputs": [
    {
     "name": "stdout",
     "output_type": "stream",
     "text": [
      "378.583866547093\n",
      "227287167623.477\n"
     ]
    }
   ],
   "source": [
    "import math\n",
    "import numpy as np\n",
    "import import sympy as sp\n",
    "class MV():\n",
    "    def __init__(self,R,h,v):#R distance away from center,h height of a deep-water wave ,v \n",
    "        self.R=R\n",
    "        self.h=h\n",
    "        self.v=v\n",
    "    def Energy(self):\n",
    "        y = sp.Symbol('y')\n",
    "        equ1 = 22.7*(y/10)**0.54*1000/self.R-self.h\n",
    "        solution = sp.solve(equ1,y)\n",
    "        item=solution[0]\n",
    "        b=item*10**12*420*10**4\n",
    "        return b,item\n",
    "    def Msolve(self):#v km*s-1\n",
    "        b,item=self.Energy()\n",
    "        m=2*b/(self.v*10**3)**2\n",
    "        return m\n",
    "    def earthquake(self):\n",
    "        b,item=self.Energy()\n",
    "        item=item*10**6\n",
    "        Y=3.9+0.7*math.log10(item)\n",
    "        print(\"m=\",self.Msolve(),\"v=\",self.v,\"H=40*h\",40*self.h,\"M=\",Y)\n",
    "test=MV(5000,10.45,41.6)\n",
    "M=test.Msolve()\n",
    "R1=(M/1000/np.pi*3/4)**(1/3)\n",
    "print(R1)\n",
    "print(test.Msolve())"
   ]
  },
  {
   "cell_type": "code",
   "execution_count": 36,
   "id": "b013e474",
   "metadata": {},
   "outputs": [
    {
     "name": "stdout",
     "output_type": "stream",
     "text": [
      "mspace= 290190098659.167 rate= 0.216764566835100 R= 378.583866547093\n",
      "m= 227287167623.477 v= 41.6 H=40*h 418.0 M= 9.269337604283292\n",
      "None\n"
     ]
    }
   ],
   "source": [
    "x1=Mtotal(5000,10.45,41.6,1000)#铁陨石\n",
    "print(\"mspace=\",x1.mtotal(),\"rate=\",x1.sun(),'R=',x1.mR())\n",
    "print(x1.me())"
   ]
  },
  {
   "cell_type": "code",
   "execution_count": 19,
   "id": "85c83bc1",
   "metadata": {},
   "outputs": [],
   "source": [
    "import numpy as np\n",
    "import math\n",
    "class Msun():\n",
    "    def __init__(self,R,v,c=6*10**(-8),H=7254,r=100*10**3,p=1.2256):#R在下落过程中不变，v不变\n",
    "        self.R=R\n",
    "        self.v=v*10**3\n",
    "        self.c=c\n",
    "        self.H=H\n",
    "        self.r=r\n",
    "        self.p=p\n",
    "    def mt(self,t):\n",
    "        A=np.pi*self.R**2\n",
    "        v=self.v\n",
    "        t=self.t\n",
    "        m=-1/2*A*self.c*self.H*self.p*v**2*np.exp(-(self.r-v*t)/self.H)\n",
    "        return m\n",
    "    def Ms(self):\n",
    "        A=np.pi*self.R**2\n",
    "        v=self.v\n",
    "        t1=104*10**3/v\n",
    "        m1=1/2*A*self.c*self.H**2*self.p*v*np.exp(-(self.r-v*t1)/self.H)\n",
    "        t2=0\n",
    "        m2=1/2*A*self.c*self.H**2*self.p*v*np.exp(-(self.r-v*t2)/self.H)\n",
    "        M=m1-m2\n",
    "        return M"
   ]
  },
  {
   "cell_type": "code",
   "execution_count": 26,
   "id": "3d143685",
   "metadata": {},
   "outputs": [
    {
     "name": "stdout",
     "output_type": "stream",
     "text": [
      "OUTER SPACE MASS100000000000000\n",
      "VELOCITY41.6\n",
      "DISTANCE FROM EDGE1000\n",
      "Tsunami heights 54928.559604614966 Richard Magnitude 11.109627136075794\n",
      "DIE\n"
     ]
    }
   ],
   "source": [
    "M=eval(input(\"OUTER SPACE MASS\"))\n",
    "v=eval(input(\"VELOCITY\"))\n",
    "R1=eval(input(\"DISTANCE FROM EDGE\"))\n",
    "s=eval(input(\"type:iron 1;iron-stone 2;stone 3;comet 4  :\"))\n",
    "    if s==1:\n",
    "        p=7860\n",
    "    if s==2:\n",
    "        p=5500\n",
    "    if s==3:\n",
    "        p=3500\n",
    "    if s==4:\n",
    "        p=1000\n",
    "R=(M/p/np.pi*3/4)**(1/3)\n",
    "a=Msun(R,v)\n",
    "mun=a.Ms()\n",
    "mhai=M-mun\n",
    "energy=1/2*mhai*v**2*10**6\n",
    "y=energy/4.184/10**18\n",
    "h= 22.7*(y/10)**0.54*1000/R1\n",
    "Y=3.9+0.7*math.log10(y*10**6)\n",
    "print(\"Tsunami heights\",40*h,\"Richard Magnitude\",Y)\n",
    "if 40*h>10:\n",
    "    print(\"YOU ARE COVERED UNDER WATER\")"
   ]
  },
  {
   "cell_type": "code",
   "execution_count": 9,
   "id": "570782f1",
   "metadata": {},
   "outputs": [
    {
     "data": {
      "text/plain": [
       "7234560000000.0"
      ]
     },
     "execution_count": 9,
     "metadata": {},
     "output_type": "execute_result"
    }
   ],
   "source": [
    "4/3*3.14*1200**3*1000"
   ]
  },
  {
   "cell_type": "code",
   "execution_count": null,
   "id": "727bbde1",
   "metadata": {},
   "outputs": [],
   "source": []
  }
 ],
 "metadata": {
  "kernelspec": {
   "display_name": "Python 3",
   "language": "python",
   "name": "python3"
  },
  "language_info": {
   "codemirror_mode": {
    "name": "ipython",
    "version": 3
   },
   "file_extension": ".py",
   "mimetype": "text/x-python",
   "name": "python",
   "nbconvert_exporter": "python",
   "pygments_lexer": "ipython3",
   "version": "3.8.10"
  }
 },
 "nbformat": 4,
 "nbformat_minor": 5
}
